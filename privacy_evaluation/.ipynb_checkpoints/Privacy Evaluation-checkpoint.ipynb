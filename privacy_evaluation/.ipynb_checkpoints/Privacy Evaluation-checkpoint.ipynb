{
 "cells": [
  {
   "cell_type": "code",
   "execution_count": 4,
   "metadata": {},
   "outputs": [],
   "source": [
    "import numpy as np\n",
    "import csv\n",
    "from os import path\n",
    "import random\n",
    "import folium"
   ]
  },
  {
   "cell_type": "markdown",
   "metadata": {},
   "source": [
    "# Privacy Evaluation:\n",
    "\n",
    "## Assumptions and adversarial models\n",
    "\n",
    "Assumptions and adversarial models are essential in privacy analysis as they enable us to identify vulnerabilities, evaluate privacy guarantees, enhance threat modeling, and guide system design. By considering a wide range of potential threats and adversaries, we can develop robust privacy solutions that protect individuals' personal information and maintain the confidentiality, integrity, and availability of sensitive data.\n",
    "\n",
    "### Assumptions and Adversarial models\n",
    "\n",
    "The adversary's resources can be diverse and extensive. The application needs to be protected against both small-scale hackers with limited resources and large corporations or governments. It must be secure against any type of attacks and against any person (customers, employees, system administrators, external attackers). The attacker may have corrupted an employee to obtain sensitive informations.\n",
    "\n",
    "In the following, we assume serveral things :\n",
    "- The ABC schem is correctly implemented and provide an anonymous connexion service.\n",
    "- Each IP address in the data set corresponds to a unique user, and users don't hide their IP address or use additional pivacy techniques.\n",
    "- There is no polluted record in the queries data set, the data are intact.\n",
    "\n",
    "\n",
    "## Attack strategy\n",
    "\n",
    "There are the two main types of attacks :\n",
    "\n",
    "1. Location-based Attack: This type of attack aims to determine the geographical position of a user based on the latitude and longitude coordinates associated with the requests. The strategies for this attack include:\n",
    "\n",
    "- Extract the multiple queries locations of each user based on the IP address, which is unique to each user.\n",
    "- Using an algorithm to compute an approximation of the geographical locations based on the mutliple queries location and timestamp.\n",
    "\n",
    "\n",
    "2. Interest-based Attack: This attack focuses on inferring a user's interests by analyzing the types of Point of Interest (POI) filtered by the user in their queries. The strategies for this attack include:\n",
    "\n",
    "- Analyzing the requested POI types to infer the user's personal interests. For example, if a user consistently queries for restaurants, it can be assumed that they are interested in gastronomy.\n",
    "- Examining repeated queries for a specific type of POI to deduce user preferences or regular habits. For instance, if a user frequently visits the same restaurant, it indicates their preference or routine.\n",
    "\n",
    "\n",
    "### Demonstration of Location-based Attack\n",
    "\n",
    "Let start our attack by Extracting the informations needed for this attack, and group the data by IP addresses :"
   ]
  },
  {
   "cell_type": "code",
   "execution_count": 7,
   "metadata": {},
   "outputs": [],
   "source": [
    "# Extract the data IP and location of the users\n",
    "\n",
    "with open(\"queries.csv\", 'r') as fichier_csv:\n",
    "    lecteur_csv = csv.reader(fichier_csv, delimiter=' ')\n",
    "    \n",
    "    prochaine_ligne = next(lecteur_csv)\n",
    "    \n",
    "    user_data = []\n",
    "    # Read lines of the CSV file\n",
    "    for line in lecteur_csv:\n",
    "        user_data.append([line[0], line[1], line[2]])\n",
    "        \n",
    "# Group the data by IP\n",
    "ip_map = {}\n",
    "for entry in user_data:\n",
    "    ip = entry[0]\n",
    "    coordinates = entry[1:]\n",
    "    \n",
    "    if ip in ip_map:\n",
    "        ip_map[ip].append(coordinates)\n",
    "    else:\n",
    "        ip_map[ip] = [coordinates]"
   ]
  },
  {
   "cell_type": "markdown",
   "metadata": {},
   "source": [
    "Now that the extraction is done, let's get the data of one particular user for the demonstration. The choosen user is the one that correspond to the IP address \"34.101.177.245\". "
   ]
  },
  {
   "cell_type": "code",
   "execution_count": 8,
   "metadata": {},
   "outputs": [
    {
     "name": "stdout",
     "output_type": "stream",
     "text": [
      "Moyenne des coordonnées :\n",
      "Latitude :  46.54256554474061\n",
      "Longitude :  6.5999208195069015\n"
     ]
    }
   ],
   "source": [
    "# Get the data of one user :\n",
    "data = ip_map['34.101.177.245']\n",
    "latitude_sum = 0.0\n",
    "longitude_sum = 0.0\n",
    "count = 0\n",
    "\n",
    "# Compute the means\n",
    "for coordinates in data:\n",
    "    latitude_sum += float(coordinates[0])\n",
    "    longitude_sum += float(coordinates[1])\n",
    "    count += 1\n",
    "latitude_mean = latitude_sum / count\n",
    "longitude_mean = longitude_sum / count\n",
    "\n",
    "# Create a map with the locations of the requests of the particular user\n",
    "carte = folium.Map(location=[latitude_mean, longitude_mean], zoom_start=12)\n",
    "\n",
    "for coordinates in data:\n",
    "    latitude = float(coordinates[0])\n",
    "    longitude = float(coordinates[1])\n",
    "    \n",
    "    # Add a vraiation to the data to see the multiple point at same places\n",
    "    delta1 = random.uniform(-0.0003, 0.0003)\n",
    "    delta2 = random.uniform(-0.0003, 0.0003)\n",
    "    new_latitude = latitude + delta1\n",
    "    new_longitude = longitude + delta2\n",
    "    \n",
    "    folium.Marker(\n",
    "        location=[new_latitude, new_longitude],\n",
    "        popup=\"Latitude: {}<br>Longitude: {}\".format(latitude, longitude)\n",
    "    ).add_to(carte)\n",
    "    \n",
    "folium.Marker([latitude_mean, longitude_mean], popup=\"Moyenne :<br> - Latitude: {}<br>- Longitude: {}\".format(latitude, longitude)).add_to(carte)\n",
    "\n",
    "# Save the map\n",
    "carte.save('carte.html')\n",
    "\n",
    "print(\"Moyenne des coordonnées :\")\n",
    "print(\"Latitude : \", latitude_mean)\n",
    "print(\"Longitude : \", longitude_mean)"
   ]
  },
  {
   "cell_type": "markdown",
   "metadata": {},
   "source": [
    "Now we can see all the locations where the user has make a query. We detect three main locations, the ones where multiple points belongs, which probably corresponds to living and working locations. Moreover we can suppose that the user has some interest for the Lausanne University."
   ]
  },
  {
   "cell_type": "markdown",
   "metadata": {},
   "source": [
    "![Texte alternatif](map_user.jpg)"
   ]
  },
  {
   "cell_type": "markdown",
   "metadata": {},
   "source": [
    "#### Conclusion :\n",
    "\n",
    "We have discover the main living places of one user with this basic and quickly-made algorithm, but it is possible to go much further and to use the timestamp in particular to have better and more precise analysis. In our demonstration, the user isn't identified as we only know his IP address, but the ressource of the adversary can be much more large. For example if the adversary can have access to the \"FISC administration registers\", he can search for people that work at an address and live to another address. He will probably be able to uniquely identify the person."
   ]
  },
  {
   "cell_type": "markdown",
   "metadata": {},
   "source": [
    "### Interest-based Attack\n",
    "\n",
    "The Interest based attack is prety similar to the location-based one. We are able to link the queries of the each user based on their IP address. This attack can identify the favourite activities and the habits of the users. If the user cannot be identified, this attack isn't very harmful. But if the user became identifiable, in particular with the help of the location-based previously described, the attack become very dangerous and leak a lot informations."
   ]
  },
  {
   "cell_type": "markdown",
   "metadata": {},
   "source": [
    "## Conclusion of attacks\n",
    "\n",
    "The queries data aren't dangerous in their raw form but they becomes particularly dangerous coupled with other data sets. If a user can be identified, the following informations are leaked :\n",
    "\n",
    "- His living places (work, home, ...)\n",
    "- His IP address\n",
    "- Lots of location with time\n",
    "- His favourite activities and habits\n",
    "- Other advenced informations that can be deduce from the time and location."
   ]
  },
  {
   "cell_type": "markdown",
   "metadata": {},
   "source": [
    "## Defence\n",
    "\n",
    "### Description\n",
    "\n",
    "In response to the identified attacks that can compromise user privacy in the previous task, it is important to explore effective defenses that can mitigate these privacy breaches. One solution could be that all user use a VPN, which hide the IP address by encrypting their internet traffic and routing it through a secure server located in a different geographical location. This option has been ruled out due to the complexity of mandating users to utilize a VPN in order to access our application. This imposes excessive limitations.\n",
    "\n",
    "Therefore we rather suggests implementing a client-side defense utilizing the Tor network. By leveraging the Tor network, we aim to enhance user privacy and prevent various attacks targeting the IP address to link the queries to users. The defense proposed involves routing the user's internet traffic through the Tor network, when a user accesses the location service, their requests are encapsulated and routed through a series of Tor relays, effectively concealing their IP address. It becomes exceedingly difficult for adversaries (and also the service provider) to trace back the user's original IP address.\n",
    "\n",
    "### Experimental evaluation of the defence in terms of privacy\n",
    "\n",
    "It is difficult to provide a precise percentage of the likelihood for an adversary to discover an IP address on the Tor network. The probability depends on various factors, such as the capabilities of the adversary, the attack techniques used, the user's configuration and behavior, and the overall security of the Tor network. While Tor offers a high level of anonymity, there is still a possibility, albeit low, for a determined and skilled adversary to potentially uncover an IP address.\n",
    "\n",
    "### Experimental evaluation of the defence in terms of utility of the service\n",
    "\n",
    "In our case, the utility can be defined such as the comfort of use, in particular the service response time or the accuracy of the response. There is no loss of precision when using this defense, as the intended functionality and accuracy of the location service remain intact. However, it is important to note that the response time will be higher compared to using a regular network due to the utilization of the Tor network.\n",
    "\n",
    "The additional latency is primarily a result of the multi-hop routing mechanism employed by Tor. When a user's internet traffic is routed through multiple Tor relays, each relay introduces a certain level of delay in processing and forwarding the data packets.\n",
    "\n",
    "### Privacy-utility trade-offs\n",
    "\n",
    "The proposed defense offers significant privacy enhancements by hiding the user's IP address. However, there are trade-offs in terms of utility. The increased latency due to routing through the Tor network can result in slower response times for location queries. It is important to consider the balance between privacy and utility and strike a reasonable compromise that maximizes both aspects.\n",
    "\n",
    "### Conclusion:\n",
    "\n",
    "Implementing a client-side defense utilizing the Tor network can be an effective strategy to protect user privacy in the context of a location service. By leveraging the anonymity and security features provided by the Tor network, the defense can prevent attacks targeting user IP addresses, which is the main privacy issues related to the attacks describ previously. This defense aims to provide users with a more privacy-preserving location service while maintaining a reasonable level of utility."
   ]
  },
  {
   "cell_type": "code",
   "execution_count": null,
   "metadata": {},
   "outputs": [],
   "source": []
  }
 ],
 "metadata": {
  "kernelspec": {
   "display_name": "Python 3",
   "language": "python",
   "name": "python3"
  },
  "language_info": {
   "codemirror_mode": {
    "name": "ipython",
    "version": 3
   },
   "file_extension": ".py",
   "mimetype": "text/x-python",
   "name": "python",
   "nbconvert_exporter": "python",
   "pygments_lexer": "ipython3",
   "version": "3.7.10"
  }
 },
 "nbformat": 4,
 "nbformat_minor": 5
}
