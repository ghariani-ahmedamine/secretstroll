{
 "cells": [
  {
   "cell_type": "code",
   "execution_count": 1,
   "metadata": {},
   "outputs": [],
   "source": [
    "import numpy as np\n",
    "import csv\n",
    "from os import path\n",
    "import random\n",
    "import folium"
   ]
  },
  {
   "cell_type": "markdown",
   "metadata": {},
   "source": [
    "# Privacy Evaluation:\n",
    "\n",
    "## Assumptions and adversarial models\n",
    "\n",
    "Assumptions and adversarial models are essential in privacy analysis as they enable us to identify vulnerabilities, evaluate privacy guarantees, enhance threat modeling, and guide system design. By considering a wide range of potential threats and adversaries, we can develop robust privacy solutions that protect individuals' personal information and maintain the confidentiality, integrity, and availability of sensitive data.\n",
    "\n",
    "### Assumptions\n",
    "\n",
    "The first and basic assumption for our privacy evaluation is that each IP address in the data set corresponds to a unique user, and users don't hide their IP address or use additional pivacy techniques. This assumption is Important to consider because we need to protect the privacy of all the users, even those who do not use additional protections.\n",
    "\n",
    ".. other assumptions\n",
    "\n",
    "### Adversarial models\n",
    "\n",
    "An adversary could aim to determine the geographical locations of users based on the location of their requests. He can use some algorithms to approximatate the location of where some users live or work based on the requests timestamp and location.\n",
    "\n",
    "\n",
    "... Adversarial models\n",
    "\n",
    "\n",
    "## Attack strategy\n",
    "\n",
    "There are the two main types of attacks :\n",
    "\n",
    "1. Location-based Attack: This type of attack aims to determine the geographical position of a user based on the latitude and longitude coordinates associated with the requests. The strategies for this attack include:\n",
    "\n",
    "- Extract the multiple queries locations of each user based on the IP address, which is unique to each user.\n",
    "- Using an algorithm to compute an approximation of the geographical locations based on the mutliple queries location and timestamp.\n",
    "\n",
    "\n",
    "2. Interest-based Attack: This attack focuses on inferring a user's interests by analyzing the types of Point of Interest (POI) filtered by the user in their queries. The strategies for this attack include:\n",
    "\n",
    "- Analyzing the requested POI types to infer the user's personal interests. For example, if a user consistently queries for restaurants, it can be assumed that they are interested in gastronomy.\n",
    "- Examining repeated queries for a specific type of POI to deduce user preferences or regular habits. For instance, if a user frequently visits the same restaurant, it indicates their preference or routine.\n",
    "\n",
    "\n",
    "## Demonstration of the attacks\n",
    "\n",
    "### Location-based Attack\n",
    "\n",
    "Let start our attack by Extracting the informations needed for this attack, and group the data by IP addresses :"
   ]
  },
  {
   "cell_type": "code",
   "execution_count": 2,
   "metadata": {},
   "outputs": [],
   "source": [
    "# Extract the data IP and location of the users\n",
    "\n",
    "with open(\"queries.csv\", 'r') as fichier_csv:\n",
    "    lecteur_csv = csv.reader(fichier_csv, delimiter=' ')\n",
    "    \n",
    "    prochaine_ligne = next(lecteur_csv)\n",
    "    \n",
    "    user_data = []\n",
    "    # Read lines of the CSV file\n",
    "    for line in lecteur_csv:\n",
    "        user_data.append([line[0], line[1], line[2]])\n",
    "        \n",
    "# Group the data by IP\n",
    "ip_map = {}\n",
    "for entry in user_data:\n",
    "    ip = entry[0]\n",
    "    coordinates = entry[1:]\n",
    "    \n",
    "    if ip in ip_map:\n",
    "        ip_map[ip].append(coordinates)\n",
    "    else:\n",
    "        ip_map[ip] = [coordinates]"
   ]
  },
  {
   "cell_type": "markdown",
   "metadata": {},
   "source": [
    "Now that the extraction is done, let's get the data of one particular user for the demonstration. The choosen user is the one that correspond to the IP address \"34.101.177.245\". "
   ]
  },
  {
   "cell_type": "code",
   "execution_count": 3,
   "metadata": {},
   "outputs": [
    {
     "name": "stdout",
     "output_type": "stream",
     "text": [
      "Moyenne des coordonnées :\n",
      "Latitude :  46.54256554474061\n",
      "Longitude :  6.5999208195069015\n"
     ]
    }
   ],
   "source": [
    "# Get the data of one user :\n",
    "data = ip_map['34.101.177.245']\n",
    "latitude_sum = 0.0\n",
    "longitude_sum = 0.0\n",
    "count = 0\n",
    "\n",
    "# Compute the means\n",
    "for coordinates in data:\n",
    "    latitude_sum += float(coordinates[0])\n",
    "    longitude_sum += float(coordinates[1])\n",
    "    count += 1\n",
    "latitude_mean = latitude_sum / count\n",
    "longitude_mean = longitude_sum / count\n",
    "\n",
    "# Create a map with the locations of the requests of the particular user\n",
    "carte = folium.Map(location=[latitude_mean, longitude_mean], zoom_start=12)\n",
    "\n",
    "for coordinates in data:\n",
    "    latitude = float(coordinates[0])\n",
    "    longitude = float(coordinates[1])\n",
    "    \n",
    "    # Add a vraiation to the data to see the multiple point at same places\n",
    "    delta1 = random.uniform(-0.0003, 0.0003)\n",
    "    delta2 = random.uniform(-0.0003, 0.0003)\n",
    "    new_latitude = latitude + delta1\n",
    "    new_longitude = longitude + delta2\n",
    "    \n",
    "    folium.Marker(\n",
    "        location=[new_latitude, new_longitude],\n",
    "        popup=\"Latitude: {}<br>Longitude: {}\".format(latitude, longitude)\n",
    "    ).add_to(carte)\n",
    "    \n",
    "folium.Marker([latitude_mean, longitude_mean], popup=\"Moyenne :<br> - Latitude: {}<br>- Longitude: {}\".format(latitude, longitude)).add_to(carte)\n",
    "\n",
    "# Save the map\n",
    "carte.save('carte.html')\n",
    "\n",
    "print(\"Moyenne des coordonnées :\")\n",
    "print(\"Latitude : \", latitude_mean)\n",
    "print(\"Longitude : \", longitude_mean)"
   ]
  },
  {
   "cell_type": "markdown",
   "metadata": {},
   "source": [
    "Now we can see all the locations where the user has make a query. We detect three main locations, the one where multiple points belongs, which probably corresponds to living and working locations. Moreover we can suppose that the user has some interest for the Lausanne University."
   ]
  },
  {
   "cell_type": "markdown",
   "metadata": {},
   "source": [
    "![Texte alternatif](map_user.png)"
   ]
  },
  {
   "cell_type": "markdown",
   "metadata": {},
   "source": [
    "We made this small and basic algorithm quickly, but it is possible to go much further and to use the timestamp in particular to have better and more precise analysis."
   ]
  },
  {
   "cell_type": "markdown",
   "metadata": {},
   "source": [
    "### Interest-based Attack\n",
    "..."
   ]
  }
 ],
 "metadata": {
  "kernelspec": {
   "display_name": "Python 3",
   "language": "python",
   "name": "python3"
  },
  "language_info": {
   "codemirror_mode": {
    "name": "ipython",
    "version": 3
   },
   "file_extension": ".py",
   "mimetype": "text/x-python",
   "name": "python",
   "nbconvert_exporter": "python",
   "pygments_lexer": "ipython3",
   "version": "3.7.10"
  }
 },
 "nbformat": 4,
 "nbformat_minor": 5
}
